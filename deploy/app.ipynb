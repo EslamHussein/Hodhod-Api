
# coding: utf-8

# In[1]:


import pickle
import flask
import os
import random

app = flask.Flask(__name__)
port = int(os.getenv("PORT", 9099))


# In[ ]:


model = pickle.load(open("linearmodel.pkl","rb"))


# In[ ]:


@app.route('/predict', methods=['POST'])
def predict():

    features = flask.request.get_json(force=True)['features']
    prediction = model.predict([features])[0,0]
    problems_map = {0:"MedicalAssistance",
    1:"FoodDistributors",
    2:"WaterIssues",
    3:"SurvivorsHandling",
    4:"RoadAndBridgeFixes",
    5:"CleanupOperations",
    }
    volunteers_map = {"MedicalAssistance":["Eslam","Mostafa","Eman"],
    "FoodDistributors":["Hussein","Yahia","Moamn"],
    "WaterIssues":["Ahmed","Magdy","Doaa"],
    "SurvivorsHandling": ["Mohamed","Ibrahiem"],
    "RoadAndBridgeFixes":["Abeer","Hend"],
    "CleanupOperations":["Salah","Dina"],
    }
    volunteers_list  = volunteers_map[problems_map[features[0]]]
    volunteer = random.choice(volunteers_list)
    response = {'volunteer': volunteer}

    return flask.jsonify(response)

if __name__ == '__main__':
    app.run(host='0.0.0.0', port=port)

