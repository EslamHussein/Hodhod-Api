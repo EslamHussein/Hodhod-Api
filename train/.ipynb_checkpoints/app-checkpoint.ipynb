{
 "cells": [
  {
   "cell_type": "code",
   "execution_count": 1,
   "metadata": {
    "collapsed": true
   },
   "outputs": [],
   "source": [
    "import pickle\n",
    "import flask\n",
    "import os\n",
    "\n",
    "app = flask.Flask(__name__)\n",
    "port = int(os.getenv(\"PORT\", 9099))"
   ]
  },
  {
   "cell_type": "code",
   "execution_count": null,
   "metadata": {},
   "outputs": [],
   "source": [
    " model = pickle.load(open(\"C:\\\\Users\\\\Ahmed\\\\Desktop\\\\IBM Cloud/deploy/linearmodel.pkl\",\"rb\"))\n"
   ]
  },
  {
   "cell_type": "code",
   "execution_count": null,
   "metadata": {},
   "outputs": [],
   "source": [
    " @app.route('/predict', methods=['POST'])\n",
    " def predict():\n",
    "\n",
    "     features = flask.request.get_json(force=True)['features']\n",
    "     prediction = model.predict([features])[0,0]\n",
    "     response = {'prediction': prediction}\n",
    "\n",
    "     return flask.jsonify(response)\n",
    "\n",
    " if __name__ == '__main__':\n",
    "     app.run(host='0.0.0.0', port=port)\n"
   ]
  },
  {
   "cell_type": "code",
   "execution_count": null,
   "metadata": {
    "collapsed": true
   },
   "outputs": [],
   "source": []
  }
 ],
 "metadata": {
  "kernelspec": {
   "display_name": "Python 3",
   "language": "python",
   "name": "python3"
  },
  "language_info": {
   "codemirror_mode": {
    "name": "ipython",
    "version": 3
   },
   "file_extension": ".py",
   "mimetype": "text/x-python",
   "name": "python",
   "nbconvert_exporter": "python",
   "pygments_lexer": "ipython3",
   "version": "3.6.3"
  }
 },
 "nbformat": 4,
 "nbformat_minor": 2
}
